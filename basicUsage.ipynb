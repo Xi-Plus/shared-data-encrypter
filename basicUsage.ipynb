{
 "cells": [
  {
   "cell_type": "code",
   "execution_count": 1,
   "metadata": {},
   "outputs": [],
   "source": [
    "import sde"
   ]
  },
  {
   "cell_type": "code",
   "execution_count": 2,
   "metadata": {},
   "outputs": [],
   "source": [
    "data1 = sde.Data.newFromPlain('weight: 50 kg')\n",
    "data2 = sde.Data.newFromPlain('weight: 60 kg')"
   ]
  },
  {
   "cell_type": "code",
   "execution_count": 3,
   "metadata": {},
   "outputs": [],
   "source": [
    "student1 = sde.DataAccess('password for stu1')\n",
    "student2 = sde.DataAccess('password for stu2')\n",
    "nurse1 = sde.DataAccess('password for nurse')\n",
    "nurse2 = sde.DataAccess('password for nurse')"
   ]
  },
  {
   "cell_type": "code",
   "execution_count": 4,
   "metadata": {},
   "outputs": [
    {
     "name": "stdout",
     "output_type": "stream",
     "text": [
      "b'30820120300D06092A86'\n",
      "b'{\\n\\r\\xdf\\xdd7\\xda\\x04\\x89\\xb1\\x8ee\\x9b\\x04\\xa3\\xf3.\\x14\\xe7\\xed'\n"
     ]
    }
   ],
   "source": [
    "print(student1.getUserPublicKey()[:20])\n",
    "print(student1.getEncryptedUserPrivateKey()[:20])"
   ]
  },
  {
   "cell_type": "code",
   "execution_count": 5,
   "metadata": {},
   "outputs": [
    {
     "ename": "RuntimeError",
     "evalue": "This DataAccess has not been assigned to any Data. Use Data::giveAccessTo to assign it.",
     "output_type": "error",
     "traceback": [
      "\u001b[0;31m---------------------------------------------------------------------------\u001b[0m",
      "\u001b[0;31mRuntimeError\u001b[0m                              Traceback (most recent call last)",
      "\u001b[0;32m<ipython-input-5-d1af88bbe49c>\u001b[0m in \u001b[0;36m<module>\u001b[0;34m\u001b[0m\n\u001b[0;32m----> 1\u001b[0;31m \u001b[0mprint\u001b[0m\u001b[0;34m(\u001b[0m\u001b[0mstudent1\u001b[0m\u001b[0;34m.\u001b[0m\u001b[0mgetEncryptedDataKey\u001b[0m\u001b[0;34m(\u001b[0m\u001b[0;34m)\u001b[0m\u001b[0;34m[\u001b[0m\u001b[0;34m:\u001b[0m\u001b[0;36m20\u001b[0m\u001b[0;34m]\u001b[0m\u001b[0;34m)\u001b[0m\u001b[0;34m\u001b[0m\u001b[0;34m\u001b[0m\u001b[0m\n\u001b[0m",
      "\u001b[0;31mRuntimeError\u001b[0m: This DataAccess has not been assigned to any Data. Use Data::giveAccessTo to assign it."
     ]
    }
   ],
   "source": [
    "print(student1.getEncryptedDataKey()[:20])"
   ]
  },
  {
   "cell_type": "code",
   "execution_count": 6,
   "metadata": {},
   "outputs": [],
   "source": [
    "data1.giveAccessTo(student1) # student 1 can access their data\n",
    "data1.giveAccessTo(nurse1) # nurse can access student 1' data\n",
    "data2.giveAccessTo(student2) # student 2 can access their data\n",
    "data2.giveAccessTo(nurse2) # nurse can access student 2' data"
   ]
  },
  {
   "cell_type": "code",
   "execution_count": 7,
   "metadata": {},
   "outputs": [
    {
     "name": "stdout",
     "output_type": "stream",
     "text": [
      "b'\\x1dkW\\xce\\xe6*\\x05w0y\\xb4\\xf1+\\x1ee\\x93\\xf2\\xf0\\x91\\x95'\n",
      "b'\\x90\\x13\\x93\\x1b=\\xae\\xf4\\xa1\\xb7\\xa7\\x8a\\xdc/X[\\xb8$\\xea\\xa7('\n"
     ]
    }
   ],
   "source": [
    "print(student1.getEncryptedDataKey()[:20])\n",
    "print(nurse1.getEncryptedDataKey()[:20])"
   ]
  },
  {
   "cell_type": "code",
   "execution_count": 8,
   "metadata": {},
   "outputs": [
    {
     "name": "stdout",
     "output_type": "stream",
     "text": [
      "b'weight: 50 kg'\n"
     ]
    }
   ],
   "source": [
    "# Data is not locked\n",
    "print(data1.getData())"
   ]
  },
  {
   "cell_type": "code",
   "execution_count": 9,
   "metadata": {},
   "outputs": [],
   "source": [
    "# Lock the data\n",
    "data1.encryptData()"
   ]
  },
  {
   "cell_type": "code",
   "execution_count": 10,
   "metadata": {},
   "outputs": [
    {
     "ename": "RuntimeError",
     "evalue": "Data is locked",
     "output_type": "error",
     "traceback": [
      "\u001b[0;31m---------------------------------------------------------------------------\u001b[0m",
      "\u001b[0;31mRuntimeError\u001b[0m                              Traceback (most recent call last)",
      "\u001b[0;32m<ipython-input-10-ab76a90a9b5f>\u001b[0m in \u001b[0;36m<module>\u001b[0;34m\u001b[0m\n\u001b[1;32m      1\u001b[0m \u001b[0;31m# Fail to read data\u001b[0m\u001b[0;34m\u001b[0m\u001b[0;34m\u001b[0m\u001b[0;34m\u001b[0m\u001b[0m\n\u001b[0;32m----> 2\u001b[0;31m \u001b[0mprint\u001b[0m\u001b[0;34m(\u001b[0m\u001b[0mdata1\u001b[0m\u001b[0;34m.\u001b[0m\u001b[0mgetData\u001b[0m\u001b[0;34m(\u001b[0m\u001b[0;34m)\u001b[0m\u001b[0;34m)\u001b[0m\u001b[0;34m\u001b[0m\u001b[0;34m\u001b[0m\u001b[0m\n\u001b[0m",
      "\u001b[0;31mRuntimeError\u001b[0m: Data is locked"
     ]
    }
   ],
   "source": [
    "# Fail to read data\n",
    "print(data1.getData())"
   ]
  },
  {
   "cell_type": "code",
   "execution_count": 11,
   "metadata": {},
   "outputs": [
    {
     "name": "stdout",
     "output_type": "stream",
     "text": [
      "b'weight: 50 kg'\n"
     ]
    }
   ],
   "source": [
    "data1.decryptData(student1) # Unlock\n",
    "print(data1.getData()) # Read\n",
    "data1.encryptData() # Lock"
   ]
  },
  {
   "cell_type": "code",
   "execution_count": 12,
   "metadata": {},
   "outputs": [
    {
     "name": "stdout",
     "output_type": "stream",
     "text": [
      "b'\\x1d\\xfc\\xc9\\x0eW9\\x9cA]\\xfe\\xd7\\x01\\x03'\n"
     ]
    }
   ],
   "source": [
    "data1.decryptData(student2) # Unlock\n",
    "print(data1.getData()) # Read. It's failed due to wrong key. No exception thrown by SDE.\n",
    "data1.encryptData() # Lock"
   ]
  },
  {
   "cell_type": "code",
   "execution_count": 13,
   "metadata": {},
   "outputs": [
    {
     "name": "stdout",
     "output_type": "stream",
     "text": [
      "b'weight: 50 kg'\n"
     ]
    }
   ],
   "source": [
    "data1.decryptData(nurse1) # Unlock\n",
    "print(data1.getData()) # Read\n",
    "data1.encryptData() # Lock"
   ]
  },
  {
   "cell_type": "code",
   "execution_count": 14,
   "metadata": {},
   "outputs": [
    {
     "name": "stdout",
     "output_type": "stream",
     "text": [
      "b'weight: 60 kg'\n"
     ]
    }
   ],
   "source": [
    "data2.decryptData(student2) # Unlock\n",
    "print(data2.getData()) # Read\n",
    "data2.encryptData() # Lock"
   ]
  }
 ],
 "metadata": {
  "kernelspec": {
   "display_name": "Python 3",
   "language": "python",
   "name": "python3"
  },
  "language_info": {
   "codemirror_mode": {
    "name": "ipython",
    "version": 3
   },
   "file_extension": ".py",
   "mimetype": "text/x-python",
   "name": "python",
   "nbconvert_exporter": "python",
   "pygments_lexer": "ipython3",
   "version": "3.8.5"
  }
 },
 "nbformat": 4,
 "nbformat_minor": 4
}
