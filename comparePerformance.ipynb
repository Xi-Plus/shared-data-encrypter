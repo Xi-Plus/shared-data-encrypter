{
 "cells": [
  {
   "cell_type": "code",
   "execution_count": 1,
   "metadata": {},
   "outputs": [],
   "source": [
    "import time"
   ]
  },
  {
   "cell_type": "code",
   "execution_count": 2,
   "metadata": {},
   "outputs": [],
   "source": [
    "import sde"
   ]
  },
  {
   "cell_type": "code",
   "execution_count": 3,
   "metadata": {
    "scrolled": true
   },
   "outputs": [],
   "source": [
    "def generateText(length):\n",
    "    BASIC_TEXT = \"Lorem ipsum dolor sit amet, consectetur adipiscing elit. Maecenas facilisis mauris urna, et porttitor velit efficitur suscipit. Phasellus id gravida augue. Duis erat odio, elementum ac mollis ac, scelerisque in nunc. Vestibulum finibus id ante a ultricies. Morbi at facilisis neque. Aliquam vel lorem purus. Morbi scelerisque mauris ut dolor dapibus pretium. Aliquam quis diam turpis. Nunc consectetur sapien magna. Phasellus fermentum et lorem ac dictum. Fusce molestie blandit eleifend. Suspendisse maximus est sit amet neque suscipit volutpat.\"\n",
    "    return (BASIC_TEXT*(length // len(BASIC_TEXT) + 1))[:length]"
   ]
  },
  {
   "cell_type": "code",
   "execution_count": 4,
   "metadata": {},
   "outputs": [
    {
     "name": "stdout",
     "output_type": "stream",
     "text": [
      "Lorem ipsum dolor si\n"
     ]
    }
   ],
   "source": [
    "assert(len(generateText(12345)) == 12345)\n",
    "print(generateText(20))"
   ]
  },
  {
   "cell_type": "code",
   "execution_count": 5,
   "metadata": {},
   "outputs": [],
   "source": [
    "def testWithoutSDE(people, length):\n",
    "    text = generateText(length)\n",
    "\n",
    "    starttime = time.time()\n",
    "    memory = 0\n",
    "\n",
    "    for i in range(people):\n",
    "        # Generate password for person N\n",
    "        dataKey = sde.AESEncrypter.GeneratePassword()\n",
    "\n",
    "        # Encrypt text by their password\n",
    "        dataEncrypter = sde.AESEncrypter(dataKey)\n",
    "        encryptedText = dataEncrypter.encryptString(text.encode())\n",
    "\n",
    "        memory += len(dataKey)\n",
    "        memory += len(encryptedText)\n",
    "\n",
    "    totaltime = time.time() - starttime\n",
    "\n",
    "    return totaltime, memory"
   ]
  },
  {
   "cell_type": "code",
   "execution_count": 6,
   "metadata": {},
   "outputs": [],
   "source": [
    "def testWithSDE(people, length):\n",
    "    text = generateText(length)\n",
    "\n",
    "    starttime = time.time()\n",
    "    memory = 0\n",
    "\n",
    "    dataKey = sde.AESEncrypter.GeneratePassword()\n",
    "\n",
    "    memory += len(dataKey)\n",
    "    \n",
    "    dataEncrypter = sde.AESEncrypter(dataKey)\n",
    "    encryptedText = dataEncrypter.encryptString(text.encode())\n",
    "\n",
    "    memory += len(encryptedText)\n",
    "    \n",
    "    for i in range(people):\n",
    "        # Generate encrypter for person N\n",
    "        userEncrypter = sde.RSAEncrypter()\n",
    "        encryptedDataKey = userEncrypter.encryptString(dataKey)\n",
    "        publicKey = userEncrypter.getEncodedPublicKey()\n",
    "        privateKey = userEncrypter.getEncodedPrivateKey()\n",
    "\n",
    "        memory += len(encryptedDataKey)\n",
    "        memory += len(publicKey)\n",
    "        memory += len(privateKey)\n",
    "    \n",
    "    totaltime = time.time() - starttime\n",
    "\n",
    "    return totaltime, memory"
   ]
  },
  {
   "cell_type": "code",
   "execution_count": 7,
   "metadata": {},
   "outputs": [],
   "source": [
    "def comparePerformance(people, length):\n",
    "    withoutSDE = testWithoutSDE(people, length)\n",
    "    withSDE = testWithSDE(people, length)\n",
    "    print('Share {} bytes with {} people'.format(length, people))\n",
    "    print('        {:>10} {:>10}'.format('time', 'memory'))\n",
    "    print('without {:>10.5f} {:>10}'.format(withoutSDE[0], withoutSDE[1]))\n",
    "    print('with    {:>10.5f} {:>10}'.format(withSDE[0], withSDE[1]))"
   ]
  },
  {
   "cell_type": "code",
   "execution_count": 8,
   "metadata": {},
   "outputs": [
    {
     "name": "stdout",
     "output_type": "stream",
     "text": [
      "Share 10000000 bytes with 2 people\n",
      "              time     memory\n",
      "without    0.15506   20000064\n",
      "with       0.23252   10006570\n"
     ]
    }
   ],
   "source": [
    "comparePerformance(2, 10000000)"
   ]
  },
  {
   "cell_type": "code",
   "execution_count": 9,
   "metadata": {},
   "outputs": [
    {
     "name": "stdout",
     "output_type": "stream",
     "text": [
      "Share 1000000 bytes with 100 people\n",
      "              time     memory\n",
      "without    4.49067  100003200\n",
      "with       6.96685    1327070\n"
     ]
    }
   ],
   "source": [
    "comparePerformance(100, 1000000)"
   ]
  },
  {
   "cell_type": "code",
   "execution_count": 10,
   "metadata": {},
   "outputs": [
    {
     "name": "stdout",
     "output_type": "stream",
     "text": [
      "Share 3500 bytes with 100 people\n",
      "              time     memory\n",
      "without    4.35475     353200\n",
      "with       7.73770     330546\n"
     ]
    }
   ],
   "source": [
    "comparePerformance(100, 3500)"
   ]
  }
 ],
 "metadata": {
  "kernelspec": {
   "display_name": "Python 3",
   "language": "python",
   "name": "python3"
  },
  "language_info": {
   "codemirror_mode": {
    "name": "ipython",
    "version": 3
   },
   "file_extension": ".py",
   "mimetype": "text/x-python",
   "name": "python",
   "nbconvert_exporter": "python",
   "pygments_lexer": "ipython3",
   "version": "3.8.5"
  }
 },
 "nbformat": 4,
 "nbformat_minor": 4
}
